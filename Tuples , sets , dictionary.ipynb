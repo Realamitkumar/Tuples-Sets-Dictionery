{
 "cells": [
  {
   "cell_type": "code",
   "execution_count": 8,
   "id": "4215745c",
   "metadata": {},
   "outputs": [
    {
     "data": {
      "text/plain": [
       "tuple"
      ]
     },
     "execution_count": 8,
     "metadata": {},
     "output_type": "execute_result"
    }
   ],
   "source": [
    "t = (1,2,\"d\")\n",
    "type(t)"
   ]
  },
  {
   "cell_type": "code",
   "execution_count": 6,
   "id": "fdd73da1",
   "metadata": {},
   "outputs": [],
   "source": [
    "li = [1,2,\"f\"]"
   ]
  },
  {
   "cell_type": "code",
   "execution_count": 7,
   "id": "19b44836",
   "metadata": {},
   "outputs": [
    {
     "data": {
      "text/plain": [
       "'f'"
      ]
     },
     "execution_count": 7,
     "metadata": {},
     "output_type": "execute_result"
    }
   ],
   "source": [
    "li[2]"
   ]
  },
  {
   "cell_type": "code",
   "execution_count": 9,
   "id": "ee830ac2",
   "metadata": {},
   "outputs": [
    {
     "data": {
      "text/plain": [
       "('d', 2, 1)"
      ]
     },
     "execution_count": 9,
     "metadata": {},
     "output_type": "execute_result"
    }
   ],
   "source": [
    "t[::-1]"
   ]
  },
  {
   "cell_type": "code",
   "execution_count": 14,
   "id": "84fd3c07",
   "metadata": {},
   "outputs": [],
   "source": [
    "#list mutable\n",
    "li[2]=\"changed\""
   ]
  },
  {
   "cell_type": "code",
   "execution_count": 15,
   "id": "1aa333c6",
   "metadata": {},
   "outputs": [
    {
     "data": {
      "text/plain": [
       "[1, 2, 'changed']"
      ]
     },
     "execution_count": 15,
     "metadata": {},
     "output_type": "execute_result"
    }
   ],
   "source": [
    "li"
   ]
  },
  {
   "cell_type": "code",
   "execution_count": 17,
   "id": "7fbedccd",
   "metadata": {
    "scrolled": true
   },
   "outputs": [
    {
     "ename": "TypeError",
     "evalue": "'tuple' object does not support item assignment",
     "output_type": "error",
     "traceback": [
      "\u001b[1;31m---------------------------------------------------------------------------\u001b[0m",
      "\u001b[1;31mTypeError\u001b[0m                                 Traceback (most recent call last)",
      "\u001b[1;32m<ipython-input-17-959accdaf6b7>\u001b[0m in \u001b[0;36m<module>\u001b[1;34m\u001b[0m\n\u001b[0;32m      1\u001b[0m \u001b[1;31m#tuple immutable\u001b[0m\u001b[1;33m\u001b[0m\u001b[1;33m\u001b[0m\u001b[1;33m\u001b[0m\u001b[0m\n\u001b[1;32m----> 2\u001b[1;33m \u001b[0mt\u001b[0m\u001b[1;33m[\u001b[0m\u001b[1;36m2\u001b[0m\u001b[1;33m]\u001b[0m\u001b[1;33m=\u001b[0m\u001b[1;34m\"not changed\"\u001b[0m\u001b[1;33m\u001b[0m\u001b[1;33m\u001b[0m\u001b[0m\n\u001b[0m",
      "\u001b[1;31mTypeError\u001b[0m: 'tuple' object does not support item assignment"
     ]
    }
   ],
   "source": [
    "#tuple immutable\n",
    "t[2]=\"not changed\""
   ]
  },
  {
   "cell_type": "code",
   "execution_count": 32,
   "id": "be666992",
   "metadata": {},
   "outputs": [],
   "source": [
    "t = (1,2,3,3,5)"
   ]
  },
  {
   "cell_type": "code",
   "execution_count": 33,
   "id": "94c35a77",
   "metadata": {},
   "outputs": [
    {
     "data": {
      "text/plain": [
       "2"
      ]
     },
     "execution_count": 33,
     "metadata": {},
     "output_type": "execute_result"
    }
   ],
   "source": [
    "#tuple\n",
    "t.count(3)"
   ]
  },
  {
   "cell_type": "code",
   "execution_count": 34,
   "id": "e6accae1",
   "metadata": {},
   "outputs": [
    {
     "data": {
      "text/plain": [
       "1"
      ]
     },
     "execution_count": 34,
     "metadata": {},
     "output_type": "execute_result"
    }
   ],
   "source": [
    "#list\n",
    "li.count(2)"
   ]
  },
  {
   "cell_type": "code",
   "execution_count": 36,
   "id": "3636ea77",
   "metadata": {},
   "outputs": [
    {
     "data": {
      "text/plain": [
       "2"
      ]
     },
     "execution_count": 36,
     "metadata": {},
     "output_type": "execute_result"
    }
   ],
   "source": [
    "t.index(3)"
   ]
  },
  {
   "cell_type": "code",
   "execution_count": 37,
   "id": "46f688ca",
   "metadata": {},
   "outputs": [
    {
     "data": {
      "text/plain": [
       "1"
      ]
     },
     "execution_count": 37,
     "metadata": {},
     "output_type": "execute_result"
    }
   ],
   "source": [
    "li.index(2)"
   ]
  },
  {
   "cell_type": "code",
   "execution_count": 40,
   "id": "a904020f",
   "metadata": {
    "scrolled": true
   },
   "outputs": [
    {
     "data": {
      "text/plain": [
       "(1, 2, 3, 3, 5, 1.3, 4, 5)"
      ]
     },
     "execution_count": 40,
     "metadata": {},
     "output_type": "execute_result"
    }
   ],
   "source": [
    "#tuple\n",
    "t2=(1.3,4,5)\n",
    "\n",
    "#concat\n",
    "t+t2 #totally new entity\n",
    "#but can't do insert() , append()"
   ]
  },
  {
   "cell_type": "markdown",
   "id": "a4435d54",
   "metadata": {},
   "source": [
    "# Set"
   ]
  },
  {
   "cell_type": "code",
   "execution_count": 61,
   "id": "f5034019",
   "metadata": {},
   "outputs": [],
   "source": [
    "s= set({})"
   ]
  },
  {
   "cell_type": "code",
   "execution_count": 62,
   "id": "e5ae940e",
   "metadata": {},
   "outputs": [
    {
     "data": {
      "text/plain": [
       "set"
      ]
     },
     "execution_count": 62,
     "metadata": {},
     "output_type": "execute_result"
    }
   ],
   "source": [
    "type(s)"
   ]
  },
  {
   "cell_type": "code",
   "execution_count": 63,
   "id": "556b0a26",
   "metadata": {},
   "outputs": [],
   "source": [
    "#not allow duplicate\n",
    "s = set([1,2,3,3,3,2,\"wohh\"])"
   ]
  },
  {
   "cell_type": "code",
   "execution_count": 64,
   "id": "7a08a9c0",
   "metadata": {},
   "outputs": [],
   "source": [
    "s = set((1,2,3,3,3,2,\"wohh\"))"
   ]
  },
  {
   "cell_type": "code",
   "execution_count": 65,
   "id": "7ea63985",
   "metadata": {},
   "outputs": [
    {
     "data": {
      "text/plain": [
       "{1, 2, 3, 'wohh'}"
      ]
     },
     "execution_count": 65,
     "metadata": {},
     "output_type": "execute_result"
    }
   ],
   "source": [
    "s"
   ]
  },
  {
   "cell_type": "code",
   "execution_count": 66,
   "id": "ab00968a",
   "metadata": {},
   "outputs": [
    {
     "ename": "TypeError",
     "evalue": "'set' object is not subscriptable",
     "output_type": "error",
     "traceback": [
      "\u001b[1;31m---------------------------------------------------------------------------\u001b[0m",
      "\u001b[1;31mTypeError\u001b[0m                                 Traceback (most recent call last)",
      "\u001b[1;32m<ipython-input-66-31f261578598>\u001b[0m in \u001b[0;36m<module>\u001b[1;34m\u001b[0m\n\u001b[1;32m----> 1\u001b[1;33m \u001b[0ms\u001b[0m\u001b[1;33m[\u001b[0m\u001b[1;36m1\u001b[0m\u001b[1;33m]\u001b[0m \u001b[1;31m#not accessible\u001b[0m\u001b[1;33m\u001b[0m\u001b[1;33m\u001b[0m\u001b[0m\n\u001b[0m",
      "\u001b[1;31mTypeError\u001b[0m: 'set' object is not subscriptable"
     ]
    }
   ],
   "source": [
    "s[1] #not accessible "
   ]
  },
  {
   "cell_type": "code",
   "execution_count": 67,
   "id": "fa16a579",
   "metadata": {},
   "outputs": [
    {
     "name": "stdout",
     "output_type": "stream",
     "text": [
      "1\n",
      "2\n",
      "3\n",
      "wohh\n"
     ]
    }
   ],
   "source": [
    "#iterable\n",
    "for i in s:\n",
    "    print(i)"
   ]
  },
  {
   "cell_type": "code",
   "execution_count": 68,
   "id": "c022559e",
   "metadata": {},
   "outputs": [
    {
     "data": {
      "text/plain": [
       "1"
      ]
     },
     "execution_count": 68,
     "metadata": {},
     "output_type": "execute_result"
    }
   ],
   "source": [
    "s.pop() #first element in this case removed"
   ]
  },
  {
   "cell_type": "code",
   "execution_count": 75,
   "id": "28254ee6",
   "metadata": {},
   "outputs": [],
   "source": [
    "s = {4,5,5,6,7,3,4,7,5,4,1,2,3344,2111,0,\"sudh\",\"kumar\"}"
   ]
  },
  {
   "cell_type": "code",
   "execution_count": 79,
   "id": "71d9c57d",
   "metadata": {},
   "outputs": [
    {
     "data": {
      "text/plain": [
       "{0, 1, 2, 2111, 3, 3344, 4, 5, 6, 7, 'kumar', 'sudh'}"
      ]
     },
     "execution_count": 79,
     "metadata": {},
     "output_type": "execute_result"
    }
   ],
   "source": [
    "s  #so set  is unordered collection of unique elements"
   ]
  },
  {
   "cell_type": "markdown",
   "id": "b0d26c49",
   "metadata": {},
   "source": [
    "# Dictionery"
   ]
  },
  {
   "cell_type": "code",
   "execution_count": 82,
   "id": "0be8d438",
   "metadata": {},
   "outputs": [
    {
     "data": {
      "text/plain": [
       "dict"
      ]
     },
     "execution_count": 82,
     "metadata": {},
     "output_type": "execute_result"
    }
   ],
   "source": [
    "type({})"
   ]
  },
  {
   "cell_type": "code",
   "execution_count": 93,
   "id": "2f6e3dea",
   "metadata": {},
   "outputs": [
    {
     "data": {
      "text/plain": [
       "{'name': 'amit', 'age': 19}"
      ]
     },
     "execution_count": 93,
     "metadata": {},
     "output_type": "execute_result"
    }
   ],
   "source": [
    "kv = {\"name\" : \"amit\",\n",
    "      \"age\" : 19}\n",
    "kv"
   ]
  },
  {
   "cell_type": "code",
   "execution_count": 97,
   "id": "2abef279",
   "metadata": {},
   "outputs": [
    {
     "data": {
      "text/plain": [
       "{'name': 'shradha', 'age': 19}"
      ]
     },
     "execution_count": 97,
     "metadata": {},
     "output_type": "execute_result"
    }
   ],
   "source": [
    "# duplicate keys are n't allow\n",
    "d = {\"name\" : \"amit\",\n",
    "      \"age\" : 19\n",
    "    , \"name\" : \"shradha\"}\n",
    "d"
   ]
  },
  {
   "cell_type": "code",
   "execution_count": 99,
   "id": "7831c955",
   "metadata": {},
   "outputs": [
    {
     "ename": "SyntaxError",
     "evalue": "unexpected EOF while parsing (<ipython-input-99-1f063d39c17d>, line 3)",
     "output_type": "error",
     "traceback": [
      "\u001b[1;36m  File \u001b[1;32m\"<ipython-input-99-1f063d39c17d>\"\u001b[1;36m, line \u001b[1;32m3\u001b[0m\n\u001b[1;33m    # : \"shradha\"}\u001b[0m\n\u001b[1;37m                  ^\u001b[0m\n\u001b[1;31mSyntaxError\u001b[0m\u001b[1;31m:\u001b[0m unexpected EOF while parsing\n"
     ]
    }
   ],
   "source": [
    "d = {\"name\" : \"amit\",\n",
    "      \"age\" : 19,\n",
    "     # : \"shradha\"}"
   ]
  },
  {
   "cell_type": "code",
   "execution_count": 102,
   "id": "9e717662",
   "metadata": {},
   "outputs": [
    {
     "data": {
      "text/plain": [
       "{'name': 'amit', 'age': (19, 2, 16), '#': 'shradha'}"
      ]
     },
     "execution_count": 102,
     "metadata": {},
     "output_type": "execute_result"
    }
   ],
   "source": [
    "d = {\"name\" : \"amit\",\n",
    "      \"age\" : (19,2,16),\n",
    "     \"#\" : \"shradha\"}\n",
    "d"
   ]
  },
  {
   "cell_type": "code",
   "execution_count": 108,
   "id": "c7a756d3",
   "metadata": {},
   "outputs": [
    {
     "data": {
      "text/plain": [
       "19"
      ]
     },
     "execution_count": 108,
     "metadata": {},
     "output_type": "execute_result"
    }
   ],
   "source": [
    "d['age'][0]"
   ]
  },
  {
   "cell_type": "code",
   "execution_count": 110,
   "id": "e11faeb4",
   "metadata": {},
   "outputs": [
    {
     "name": "stdout",
     "output_type": "stream",
     "text": [
      "name\n",
      "age\n",
      "#\n"
     ]
    }
   ],
   "source": [
    "#for keys\n",
    "for i in d :\n",
    "    print(i)"
   ]
  },
  {
   "cell_type": "code",
   "execution_count": 117,
   "id": "0e326ee2",
   "metadata": {},
   "outputs": [
    {
     "name": "stdout",
     "output_type": "stream",
     "text": [
      "amit\n",
      "(19, 2, 16)\n",
      "shradha\n"
     ]
    }
   ],
   "source": [
    "#for values\n",
    "for i in d :\n",
    "    print(d[i])"
   ]
  },
  {
   "cell_type": "code",
   "execution_count": 118,
   "id": "e63a6ee3",
   "metadata": {},
   "outputs": [
    {
     "data": {
      "text/plain": [
       "dict_keys(['name', 'age', '#'])"
      ]
     },
     "execution_count": 118,
     "metadata": {},
     "output_type": "execute_result"
    }
   ],
   "source": [
    "d.keys()"
   ]
  },
  {
   "cell_type": "code",
   "execution_count": 119,
   "id": "0fec810a",
   "metadata": {},
   "outputs": [
    {
     "data": {
      "text/plain": [
       "dict_values(['amit', (19, 2, 16), 'shradha'])"
      ]
     },
     "execution_count": 119,
     "metadata": {},
     "output_type": "execute_result"
    }
   ],
   "source": [
    "d.values()"
   ]
  },
  {
   "cell_type": "code",
   "execution_count": 121,
   "id": "772d74fe",
   "metadata": {},
   "outputs": [
    {
     "name": "stdout",
     "output_type": "stream",
     "text": [
      "amit\n",
      "(19, 2, 16)\n",
      "shradha\n"
     ]
    }
   ],
   "source": [
    "#alternate\n",
    "for i in d.keys():\n",
    "    print(d[i])"
   ]
  },
  {
   "cell_type": "code",
   "execution_count": 124,
   "id": "00a840c2",
   "metadata": {},
   "outputs": [],
   "source": [
    "t = []\n",
    "for i in d.values():\n",
    "    if type(i) == tuple :\n",
    "            t.append(i)"
   ]
  },
  {
   "cell_type": "code",
   "execution_count": 125,
   "id": "47b5d82d",
   "metadata": {},
   "outputs": [
    {
     "data": {
      "text/plain": [
       "[(19, 2, 16)]"
      ]
     },
     "execution_count": 125,
     "metadata": {},
     "output_type": "execute_result"
    }
   ],
   "source": [
    "t"
   ]
  },
  {
   "cell_type": "code",
   "execution_count": 129,
   "id": "515dc2eb",
   "metadata": {},
   "outputs": [
    {
     "data": {
      "text/plain": [
       "{'name': 'amit', 'age': (19, 2, 16), '#': 'shradha', 'new': 'hey!'}"
      ]
     },
     "execution_count": 129,
     "metadata": {},
     "output_type": "execute_result"
    }
   ],
   "source": [
    "#new key value on the fly\n",
    "d[\"new\"]=\"hey!\"\n",
    "d"
   ]
  },
  {
   "cell_type": "code",
   "execution_count": 139,
   "id": "40bab5e4",
   "metadata": {},
   "outputs": [
    {
     "data": {
      "text/plain": [
       "{'name': 'amit', 'age': (19, 2, 16), '#': 'shradha', 'new': 'oppo'}"
      ]
     },
     "execution_count": 139,
     "metadata": {},
     "output_type": "execute_result"
    }
   ],
   "source": [
    "#mutable\n",
    "d[\"new\"]=\"oppo\"\n",
    "d"
   ]
  },
  {
   "cell_type": "markdown",
   "id": "8f3c161a",
   "metadata": {},
   "source": [
    "**dictionery comprehension**"
   ]
  },
  {
   "cell_type": "code",
   "execution_count": 140,
   "id": "1529a121",
   "metadata": {},
   "outputs": [],
   "source": [
    "d = {}\n",
    "for i in range(10):\n",
    "    d[i]=i**2"
   ]
  },
  {
   "cell_type": "code",
   "execution_count": 141,
   "id": "097aacbc",
   "metadata": {},
   "outputs": [
    {
     "data": {
      "text/plain": [
       "{0: 0, 1: 1, 2: 4, 3: 9, 4: 16, 5: 25, 6: 36, 7: 49, 8: 64, 9: 81}"
      ]
     },
     "execution_count": 141,
     "metadata": {},
     "output_type": "execute_result"
    }
   ],
   "source": [
    "d"
   ]
  },
  {
   "cell_type": "code",
   "execution_count": 145,
   "id": "053743d7",
   "metadata": {},
   "outputs": [
    {
     "data": {
      "text/plain": [
       "{'sudh': 'SUDH', 'kumar': 'KUMAR', 'xyz': 'XYZ', 'abc': 'ABC'}"
      ]
     },
     "execution_count": 145,
     "metadata": {},
     "output_type": "execute_result"
    }
   ],
   "source": [
    "l = [\"sudh\",\"kumar\",\"xyz\",\"abc\"]\n",
    "d = {}\n",
    "for i in l:\n",
    "    d[i] = i.upper()\n",
    "d"
   ]
  },
  {
   "cell_type": "code",
   "execution_count": 146,
   "id": "f09e95e9",
   "metadata": {},
   "outputs": [
    {
     "data": {
      "text/plain": [
       "{0: 0, 1: 1, 2: 4, 3: 9, 4: 16, 5: 25, 6: 36, 7: 49, 8: 64, 9: 81}"
      ]
     },
     "execution_count": 146,
     "metadata": {},
     "output_type": "execute_result"
    }
   ],
   "source": [
    "#compehension : means write multiline code into single line code\n",
    "{i:i**2 for i in range(10)}"
   ]
  },
  {
   "cell_type": "markdown",
   "id": "85e388fa",
   "metadata": {},
   "source": [
    "# Function "
   ]
  },
  {
   "cell_type": "code",
   "execution_count": 147,
   "id": "95c69bac",
   "metadata": {},
   "outputs": [
    {
     "data": {
      "text/plain": [
       "dict_items([('sudh', 'SUDH'), ('kumar', 'KUMAR'), ('xyz', 'XYZ'), ('abc', 'ABC')])"
      ]
     },
     "execution_count": 147,
     "metadata": {},
     "output_type": "execute_result"
    }
   ],
   "source": [
    "d.items()"
   ]
  },
  {
   "cell_type": "code",
   "execution_count": 148,
   "id": "39d04210",
   "metadata": {},
   "outputs": [],
   "source": [
    "#function\n",
    "def test():\n",
    "    a=4\n",
    "    b=3\n",
    "    print(a+b)"
   ]
  },
  {
   "cell_type": "code",
   "execution_count": 149,
   "id": "a14530b7",
   "metadata": {},
   "outputs": [
    {
     "name": "stdout",
     "output_type": "stream",
     "text": [
      "7\n"
     ]
    }
   ],
   "source": [
    "test()"
   ]
  },
  {
   "cell_type": "code",
   "execution_count": 150,
   "id": "3c234ddb",
   "metadata": {},
   "outputs": [],
   "source": [
    "#so when you return something inside function\n",
    "#using print operation then , will return runtime \n",
    "#on which can't do any operations like ; concatenation() etc.\n",
    "#so we have to use \"return\" function "
   ]
  },
  {
   "cell_type": "code",
   "execution_count": 156,
   "id": "22899b38",
   "metadata": {},
   "outputs": [],
   "source": [
    "def test():\n",
    "    a=3\n",
    "    b=4\n",
    "    return a+b"
   ]
  },
  {
   "cell_type": "code",
   "execution_count": 157,
   "id": "30b546fd",
   "metadata": {},
   "outputs": [
    {
     "data": {
      "text/plain": [
       "7"
      ]
     },
     "execution_count": 157,
     "metadata": {},
     "output_type": "execute_result"
    }
   ],
   "source": [
    "test()"
   ]
  },
  {
   "cell_type": "code",
   "execution_count": 158,
   "id": "db060476",
   "metadata": {},
   "outputs": [],
   "source": [
    "def test(a,b):\n",
    "    return a+b"
   ]
  },
  {
   "cell_type": "code",
   "execution_count": 159,
   "id": "8f2ca6f7",
   "metadata": {},
   "outputs": [
    {
     "data": {
      "text/plain": [
       "7"
      ]
     },
     "execution_count": 159,
     "metadata": {},
     "output_type": "execute_result"
    }
   ],
   "source": [
    "test(3,4)"
   ]
  },
  {
   "cell_type": "code",
   "execution_count": 1,
   "id": "aa8aa22e",
   "metadata": {},
   "outputs": [],
   "source": [
    "def test():\n",
    "    return \"sudh\",[4,5,6,7],{\"key\":45,\"key1\":345}"
   ]
  },
  {
   "cell_type": "code",
   "execution_count": 11,
   "id": "9ec9abb5",
   "metadata": {},
   "outputs": [
    {
     "data": {
      "text/plain": [
       "('sudh', [4, 5, 6, 7], {'key': 45, 'key1': 345})"
      ]
     },
     "execution_count": 11,
     "metadata": {},
     "output_type": "execute_result"
    }
   ],
   "source": [
    "test()"
   ]
  },
  {
   "cell_type": "code",
   "execution_count": 15,
   "id": "6612f04f",
   "metadata": {},
   "outputs": [
    {
     "data": {
      "text/plain": [
       "('sudh', [4, 5, 6, 7], {'key': 45, 'key1': 345})"
      ]
     },
     "execution_count": 15,
     "metadata": {},
     "output_type": "execute_result"
    }
   ],
   "source": [
    "_,__,u"
   ]
  },
  {
   "cell_type": "code",
   "execution_count": 16,
   "id": "3874846b",
   "metadata": {},
   "outputs": [
    {
     "data": {
      "text/plain": [
       "{'key': 45, 'key1': 345}"
      ]
     },
     "execution_count": 16,
     "metadata": {},
     "output_type": "execute_result"
    }
   ],
   "source": [
    "u"
   ]
  },
  {
   "cell_type": "code",
   "execution_count": 17,
   "id": "f53c6cd4",
   "metadata": {},
   "outputs": [
    {
     "data": {
      "text/plain": [
       "'sudh'"
      ]
     },
     "execution_count": 17,
     "metadata": {},
     "output_type": "execute_result"
    }
   ],
   "source": [
    "_"
   ]
  },
  {
   "cell_type": "code",
   "execution_count": 18,
   "id": "3e81e0c7",
   "metadata": {},
   "outputs": [
    {
     "data": {
      "text/plain": [
       "[4, 5, 6, 7]"
      ]
     },
     "execution_count": 18,
     "metadata": {},
     "output_type": "execute_result"
    }
   ],
   "source": [
    "__"
   ]
  }
 ],
 "metadata": {
  "kernelspec": {
   "display_name": "Python 3",
   "language": "python",
   "name": "python3"
  },
  "language_info": {
   "codemirror_mode": {
    "name": "ipython",
    "version": 3
   },
   "file_extension": ".py",
   "mimetype": "text/x-python",
   "name": "python",
   "nbconvert_exporter": "python",
   "pygments_lexer": "ipython3",
   "version": "3.8.8"
  }
 },
 "nbformat": 4,
 "nbformat_minor": 5
}
